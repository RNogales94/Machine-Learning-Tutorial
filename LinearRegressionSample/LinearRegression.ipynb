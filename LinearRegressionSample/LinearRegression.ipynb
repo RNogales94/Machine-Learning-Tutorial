{
 "cells": [
  {
   "cell_type": "code",
   "execution_count": 1,
   "metadata": {
    "collapsed": true,
    "pycharm": {
     "is_executing": false
    }
   },
   "outputs": [],
   "source": [
    "from sklearn.linear_model import LinearRegression\n",
    "\n",
    "from sklearn.datasets import make_regression"
   ]
  },
  {
   "cell_type": "code",
   "execution_count": 2,
   "outputs": [
    {
     "data": {
      "text/plain": "LinearRegression(copy_X=True, fit_intercept=True, n_jobs=None, normalize=False)"
     },
     "metadata": {},
     "output_type": "execute_result",
     "execution_count": 2
    }
   ],
   "source": [
    "X, y = make_regression()\n",
    "\n",
    "model = LinearRegression()\n",
    "\n",
    "model.fit(X,y)"
   ],
   "metadata": {
    "collapsed": false,
    "pycharm": {
     "name": "#%%\n",
     "is_executing": false
    }
   }
  },
  {
   "cell_type": "code",
   "execution_count": 3,
   "outputs": [
    {
     "data": {
      "text/plain": "array([-1.77292231e+00,  5.07784973e-01, -3.97170470e-02,  1.33055584e+00,\n        1.01686834e+01,  3.20045910e+01,  6.35411249e-01,  4.77963132e-03,\n       -6.72090044e-01,  7.32603339e-01,  4.40317421e-01,  4.49707504e+01,\n       -6.29627970e-01,  3.70315889e+01,  6.95908661e-01, -9.77175238e-01,\n       -4.82517685e-01,  1.66051561e+00, -3.67328046e-01, -6.94101347e-01,\n        1.12044308e+00, -1.06649737e+00, -9.21582323e-01, -1.59981223e-01,\n        1.74973862e-01,  7.57156224e-01,  1.61706953e-02, -7.46373187e-01,\n       -7.50417169e-02, -1.57503697e+00, -2.21313196e+00,  3.39038774e-01,\n       -1.62852738e+00,  1.44562897e-01,  5.15602478e-01,  4.33366471e-01,\n       -1.04861145e-01,  1.23896761e+00,  5.24692652e-01, -1.54804992e+00,\n       -5.04325351e-01, -8.12253487e-01,  7.36933321e-01, -5.30188849e-01,\n        1.49959945e+00,  1.11547197e+00,  1.43120016e-01,  4.44639202e-01,\n        4.09022793e-01,  6.91176805e+01, -4.93583062e-01, -3.61373921e-01,\n        8.14882669e-01,  6.25771694e+00,  1.74129914e+00,  1.41112632e-02,\n        8.21106226e-01,  1.59668769e-01,  1.87427922e+00, -1.72775915e+00,\n        1.09875012e+00,  1.46445281e+00,  1.20820074e+00, -7.58170747e-02,\n        4.90707384e-01, -1.08355338e+00,  5.15163419e-01, -6.41098838e-01,\n        2.16371527e+01, -7.57161437e-01, -1.71235321e-01,  2.27978606e-01,\n       -1.56191932e+00, -4.93039078e-01,  6.12146720e+01,  4.58388894e+01,\n        8.05895688e-01, -4.50750662e-01, -2.70328740e-01,  3.19853479e-01,\n        5.88843865e-01, -3.08674204e-01,  5.91212737e-01, -2.37849315e-01,\n        2.32489804e+00, -2.98486166e-01,  9.54841785e+01, -3.08913893e-01,\n        5.10288539e-01,  7.02196276e-01,  5.10963281e-01, -1.06759956e+00,\n       -1.35658761e+00, -5.55905774e-01, -1.68168571e-01, -2.93245242e-01,\n        1.07648443e-01, -1.06222868e+00,  1.59652697e+00, -1.10194079e+00])"
     },
     "metadata": {},
     "output_type": "execute_result",
     "execution_count": 3
    }
   ],
   "source": [
    "model.coef_"
   ],
   "metadata": {
    "collapsed": false,
    "pycharm": {
     "name": "#%%\n",
     "is_executing": false
    }
   }
  },
  {
   "cell_type": "code",
   "execution_count": null,
   "outputs": [],
   "source": [
    "\n"
   ],
   "metadata": {
    "collapsed": false,
    "pycharm": {
     "name": "#%%\n"
    }
   }
  }
 ],
 "metadata": {
  "language_info": {
   "codemirror_mode": {
    "name": "ipython",
    "version": 2
   },
   "file_extension": ".py",
   "mimetype": "text/x-python",
   "name": "python",
   "nbconvert_exporter": "python",
   "pygments_lexer": "ipython2",
   "version": "2.7.6"
  },
  "kernelspec": {
   "name": "pycharm-cd327dd0",
   "language": "python",
   "display_name": "PyCharm (MyMLSimpleExamples)"
  },
  "pycharm": {
   "stem_cell": {
    "cell_type": "raw",
    "source": [],
    "metadata": {
     "collapsed": false
    }
   }
  }
 },
 "nbformat": 4,
 "nbformat_minor": 0
}
